{
 "cells": [
  {
   "cell_type": "code",
   "execution_count": 2,
   "metadata": {},
   "outputs": [],
   "source": [
    "import pandas as pd\n",
    "from bs4 import BeautifulSoup\n",
    "import requests\n",
    "\n",
    "live_web = \"https://news.ycombinator.com/news\"\n",
    "\n",
    "\n",
    "response = requests.get(live_web)\n",
    "\n",
    "soup = BeautifulSoup(markup=response.text, features=\"html.parser\")\n",
    "article_titles = [i.find(name=\"a\").text for i in soup.find_all(\n",
    "    name=\"span\", class_=\"titleline\")]\n",
    "\n",
    "article_links = [i.find(name=\"a\").get(\"href\")\n",
    "                 for i in soup.find_all(name=\"span\", class_=\"titleline\")]\n",
    "\n",
    "\n",
    "article_score = [int(*i.text.split()[:1])\n",
    "                 for i in soup.find_all(name=\"span\", class_=\"score\")]\n",
    "\n",
    "\n",
    "data = {title: [score, link] for title, score, link in zip(\n",
    "    article_titles, article_score, article_links)}\n",
    "\n",
    "df = pd.DataFrame(data)\n"
   ]
  },
  {
   "cell_type": "code",
   "execution_count": null,
   "metadata": {},
   "outputs": [],
   "source": []
  }
 ],
 "metadata": {
  "kernelspec": {
   "display_name": "Python 3.10.5 64-bit",
   "language": "python",
   "name": "python3"
  },
  "language_info": {
   "codemirror_mode": {
    "name": "ipython",
    "version": 3
   },
   "file_extension": ".py",
   "mimetype": "text/x-python",
   "name": "python",
   "nbconvert_exporter": "python",
   "pygments_lexer": "ipython3",
   "version": "3.10.5"
  },
  "orig_nbformat": 4,
  "vscode": {
   "interpreter": {
    "hash": "cfa8da227f197b2c550201a866dac7bf581188a13abdeff9264a381f9a8fd519"
   }
  }
 },
 "nbformat": 4,
 "nbformat_minor": 2
}
